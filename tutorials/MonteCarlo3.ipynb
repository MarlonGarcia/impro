{
 "cells": [
  {
   "cell_type": "code",
   "execution_count": null,
   "id": "beea4fae-87b2-4ea1-aa4c-0054848c8c47",
   "metadata": {},
   "outputs": [],
   "source": [
    "import panel as pn\n",
    "pn.extension()"
   ]
  },
  {
   "cell_type": "code",
   "execution_count": null,
   "id": "4312d7e5-14c5-437e-a16f-7200a6311600",
   "metadata": {},
   "outputs": [],
   "source": [
    "import numpy as np\n",
    "import matplotlib.pyplot as plt\n",
    "import panel as pn\n",
    "import param\n",
    "\n",
    "\n",
    "pn.extension()\n",
    "\n",
    "class InteractiveFunction(param.Parameterized):\n",
    "    n = param.Integer(default=5, bounds=(1, 20), doc=\"Number of rows in the input matrix\")\n",
    "    size = param.Integer(default=50, bounds=(40, 500), doc=\"Parameter size\")\n",
    "    \n",
    "    def __init__(self, **params):\n",
    "        super().__init__(**params)\n",
    "        self.input_fields = []\n",
    "        self.output_labels = []\n",
    "        self.plot_pane = pn.pane.Matplotlib()\n",
    "        self.param.watch(self.update_plot, ['n', 'size'])\n",
    "        self.create_inputs()\n",
    "    \n",
    "    def create_inputs(self):\n",
    "        prop_names = [f'Size [\\u03BCm]', '\\u03BC\\u2090 [mm\\u207B\\u00B9]', '\\u03BC\\u209B [mm\\u207B\\u00B9]', 'g', 'n']\n",
    "        self.input_fields = [\n",
    "            [pn.widgets.FloatInput(name=f'{prop_names[j]} - Layer {i+1}', value=0.0, width=110) for j in range(5)]\n",
    "            for i in range(self.n)\n",
    "        ]\n",
    "        self.output_labels = [pn.pane.Markdown(f\"Sum: 0\") for _ in range(self.n)]\n",
    "    \n",
    "    def update_plot(self, *events):\n",
    "        self.create_inputs()\n",
    "        values = np.array([[widget.value for widget in row] for row in self.input_fields])\n",
    "        sums = values.sum(axis=1)\n",
    "        \n",
    "        for i, row_sum in enumerate(sums):\n",
    "            self.output_labels[i].object = f\"Sum: {row_sum:.2f}\"\n",
    "        \n",
    "        fig, ax = plt.subplots()\n",
    "        fig.suptitle('Preview of the Digital Phantom')\n",
    "        ax.imshow(values, cmap='viridis', aspect='auto')\n",
    "        plt.colorbar(ax.imshow(values, cmap='viridis', aspect='auto'))\n",
    "        self.plot_pane.object = fig\n",
    "    \n",
    "    @param.depends('n', 'size')\n",
    "    def view(self):\n",
    "        n_slider = pn.widgets.IntSlider.from_param(self.param.n, name='Number of Layers')\n",
    "        size_slider = pn.widgets.IntSlider.from_param(self.param.size, name='Phantom Size (in pixels)')\n",
    "        inputs = [pn.Row(*row, self.output_labels[i]) for i, row in enumerate(self.input_fields)]\n",
    "        buttons = pn.Row(\n",
    "            pn.widgets.Button(name=\"Run the Simulation\", button_type=\"primary\"),\n",
    "            pn.widgets.Button(name=\"More Information\", button_type=\"default\")\n",
    "        )\n",
    "        return pn.Column(\n",
    "            n_slider,\n",
    "            size_slider,\n",
    "            *inputs,\n",
    "            buttons,\n",
    "            self.plot_pane\n",
    "        )\n",
    "\n",
    "interactive_function = InteractiveFunction()\n",
    "interactive_function.view().servable()\n"
   ]
  },
  {
   "cell_type": "code",
   "execution_count": null,
   "id": "2018b1b4-e1c1-4980-a8ba-981e6d7c657c",
   "metadata": {},
   "outputs": [],
   "source": []
  }
 ],
 "metadata": {
  "kernelspec": {
   "display_name": "Python 3 (ipykernel)",
   "language": "python",
   "name": "python3"
  },
  "language_info": {
   "codemirror_mode": {
    "name": "ipython",
    "version": 3
   },
   "file_extension": ".py",
   "mimetype": "text/x-python",
   "name": "python",
   "nbconvert_exporter": "python",
   "pygments_lexer": "ipython3",
   "version": "3.9.19"
  }
 },
 "nbformat": 4,
 "nbformat_minor": 5
}
