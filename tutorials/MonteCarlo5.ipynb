# -*- coding: utf-8 -*-
"""
Created on Sat Jun 22 17:41:57 2024

@author: marlo
"""

